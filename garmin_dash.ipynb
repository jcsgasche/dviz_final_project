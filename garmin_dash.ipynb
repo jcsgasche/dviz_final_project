{
 "cells": [
  {
   "metadata": {
    "collapsed": true
   },
   "cell_type": "code",
   "source": [
    "from garminconnect import Garmin\n",
    "import matplotlib.pyplot as plt\n",
    "import pandas as pd\n",
    "\n",
    "username = \"janicksteffen@hotmail.com\"\n",
    "password = \"07@Janick@98\"\n",
    "\n",
    "client = Garmin(username, password)\n",
    "client.login()\n",
    "\n",
    "activities = client.get_activities(0, 30)\n",
    "\n",
    "activity_data = {\n",
    "    \"Date\": [],\n",
    "    \"Steps\": [],\n",
    "    \"Calories\": [],\n",
    "    \"Distance_km\": [],\n",
    "    \"Avg_HeartRate\": [],\n",
    "}\n",
    "\n",
    "for activity in activities:\n",
    "    activity_data[\"Date\"].append(activity[\"startTimeLocal\"])\n",
    "    activity_data[\"Steps\"].append(activity.get(\"steps\", 0))\n",
    "    activity_data[\"Calories\"].append(activity.get(\"calories\", 0))\n",
    "    activity_data[\"Distance_km\"].append(activity.get(\"distance\", 0) / 1000)\n",
    "    activity_data[\"Avg_HeartRate\"].append(activity.get(\"averageHR\", 0))\n",
    "\n",
    "df = pd.DataFrame(activity_data)\n",
    "\n",
    "plt.plot(df[\"Date\"], df[\"Steps\"], marker=\"o\", linestyle=\"-\")\n",
    "plt.xlabel(\"Datum\")\n",
    "plt.ylabel(\"Schritte\")\n",
    "plt.title(\"Schritte pro Tag\")\n",
    "plt.xticks(rotation=45)\n",
    "plt.show()"
   ],
   "id": "initial_id",
   "outputs": [],
   "execution_count": null
  },
  {
   "metadata": {},
   "cell_type": "code",
   "source": [
    "import dash\n",
    "from dash import dcc, html\n",
    "from dash.dependencies import Input, Output\n",
    "import plotly.express as px\n",
    "\n",
    "app = dash.Dash(__name__)\n",
    "\n",
    "app.layout = html.Div([\n",
    "    html.H1(\"Activity Dashboard\"),\n",
    "    dcc.Dropdown(\n",
    "        id=\"metric-dropdown\",\n",
    "        options=[\n",
    "            {\"label\": \"Steps\", \"value\": \"Steps\"},\n",
    "            {\"label\": \"Calories\", \"value\": \"Calories\"},\n",
    "            {\"label\": \"Distance (km)\", \"value\": \"Distance_km\"},\n",
    "            {\"label\": \"Average Heart Rate\", \"value\": \"Avg_HeartRate\"}\n",
    "        ],\n",
    "        value=\"Steps\"\n",
    "    ),\n",
    "    dcc.Graph(id=\"activity-graph\")\n",
    "])\n",
    "\n",
    "@app.callback(\n",
    "    Output(\"activity-graph\", \"figure\"),\n",
    "    [Input(\"metric-dropdown\", \"value\")]\n",
    ")\n",
    "def update_graph(selected_metric):\n",
    "    fig = px.line(df, x=\"Date\", y=selected_metric, markers=True, title=f\"{selected_metric} per Day\")\n",
    "    fig.update_layout(xaxis_title=\"Date\", yaxis_title=selected_metric)\n",
    "    return fig\n",
    "\n",
    "if __name__ == \"__main__\":\n",
    "    app.run_server(debug=True)\n"
   ],
   "id": "fb8d34e2220f0035",
   "outputs": [],
   "execution_count": null
  }
 ],
 "metadata": {
  "kernelspec": {
   "display_name": "Python 3",
   "language": "python",
   "name": "python3"
  },
  "language_info": {
   "codemirror_mode": {
    "name": "ipython",
    "version": 2
   },
   "file_extension": ".py",
   "mimetype": "text/x-python",
   "name": "python",
   "nbconvert_exporter": "python",
   "pygments_lexer": "ipython2",
   "version": "2.7.6"
  }
 },
 "nbformat": 4,
 "nbformat_minor": 5
}
